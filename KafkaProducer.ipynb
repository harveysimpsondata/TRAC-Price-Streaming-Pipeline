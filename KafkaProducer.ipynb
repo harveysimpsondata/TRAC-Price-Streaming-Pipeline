{
 "cells": [
  {
   "cell_type": "markdown",
   "source": [
    "## Packages"
   ],
   "metadata": {
    "collapsed": false
   }
  },
  {
   "cell_type": "code",
   "execution_count": 1,
   "metadata": {
    "collapsed": true,
    "ExecuteTime": {
     "end_time": "2023-07-05T19:50:18.470500Z",
     "start_time": "2023-07-05T19:50:17.416812Z"
    }
   },
   "outputs": [],
   "source": [
    "import pandas as pd\n",
    "from kafka import KafkaProducer\n",
    "from json import dumps\n",
    "from time import sleep\n",
    "import json\n",
    "from config import ip\n",
    "import requests\n",
    "from datetime import datetime"
   ]
  },
  {
   "cell_type": "markdown",
   "source": [
    "## Kafka Producer"
   ],
   "metadata": {
    "collapsed": false
   }
  },
  {
   "cell_type": "code",
   "execution_count": 2,
   "outputs": [],
   "source": [
    "producer = KafkaProducer(bootstrap_servers=[f'{ip}:9092'],\n",
    "                         value_serializer=lambda x:\n",
    "                         dumps(x).encode('utf-8'))"
   ],
   "metadata": {
    "collapsed": false,
    "ExecuteTime": {
     "end_time": "2023-07-05T19:50:22.005727Z",
     "start_time": "2023-07-05T19:50:21.807202Z"
    }
   }
  },
  {
   "cell_type": "code",
   "execution_count": null,
   "outputs": [],
   "source": [
    "while True:\n",
    "\n",
    "\n",
    "    dt = datetime.now()\n",
    "    dt.strftime(\"%Y-%m-%d %H:%M:%S\")\n",
    "\n",
    "    url = \"https://api.exchange.coinbase.com/products/TRAC-USD/ticker\"\n",
    "    response = requests.get(url)\n",
    "    TRAC = json.loads(response.text)\n",
    "    TRAC['time'] = dt.strftime(\"%Y-%m-%d %H:%M:%S\")\n",
    "    producer.send('price', value=TRAC)\n",
    "    sleep(15)\n",
    "\n"
   ],
   "metadata": {
    "collapsed": false,
    "is_executing": true,
    "ExecuteTime": {
     "start_time": "2023-07-05T19:50:39.595909Z"
    }
   }
  },
  {
   "cell_type": "code",
   "execution_count": 5,
   "outputs": [],
   "source": [
    "producer.flush()"
   ],
   "metadata": {
    "collapsed": false,
    "ExecuteTime": {
     "end_time": "2023-07-05T18:18:33.594571Z",
     "start_time": "2023-07-05T18:18:33.590649Z"
    }
   }
  },
  {
   "cell_type": "code",
   "execution_count": null,
   "outputs": [],
   "source": [],
   "metadata": {
    "collapsed": false
   }
  },
  {
   "cell_type": "markdown",
   "source": [
    "## Scratch"
   ],
   "metadata": {
    "collapsed": false
   }
  },
  {
   "cell_type": "code",
   "execution_count": null,
   "outputs": [],
   "source": [
    "# url = \"https://api.coinbase.com/v2/exchange-rates?currency=BTC\"\n",
    "# response = requests.get(url)\n",
    "# ex_rates = json.loads(response.text)\n",
    "# ex_rates['data']['rates']['USD']\n",
    "\n",
    "# producer.send('Price', value={'Lee': 'Simpson'})"
   ],
   "metadata": {
    "collapsed": false
   }
  }
 ],
 "metadata": {
  "kernelspec": {
   "name": "conda-root-py",
   "language": "python",
   "display_name": "Python [conda env:root] *"
  },
  "language_info": {
   "codemirror_mode": {
    "name": "ipython",
    "version": 2
   },
   "file_extension": ".py",
   "mimetype": "text/x-python",
   "name": "python",
   "nbconvert_exporter": "python",
   "pygments_lexer": "ipython2",
   "version": "2.7.6"
  }
 },
 "nbformat": 4,
 "nbformat_minor": 0
}
