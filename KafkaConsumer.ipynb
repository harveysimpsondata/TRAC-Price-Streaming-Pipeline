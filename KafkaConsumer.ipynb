{
 "cells": [
  {
   "cell_type": "markdown",
   "source": [
    "## Packages"
   ],
   "metadata": {
    "collapsed": false
   }
  },
  {
   "cell_type": "code",
   "execution_count": 4,
   "metadata": {
    "collapsed": true,
    "ExecuteTime": {
     "end_time": "2023-07-03T18:24:40.336854Z",
     "start_time": "2023-07-03T18:24:40.331617Z"
    }
   },
   "outputs": [],
   "source": [
    "import pandas as pd\n",
    "from kafka import KafkaConsumer\n",
    "from json import dumps, loads\n",
    "from time import sleep\n",
    "import json\n",
    "from config import ip\n",
    "from s3fs import S3FileSystem\n",
    "from datetime import datetime"
   ]
  },
  {
   "cell_type": "markdown",
   "source": [
    "## Kafka Consumer"
   ],
   "metadata": {
    "collapsed": false
   }
  },
  {
   "cell_type": "code",
   "execution_count": 5,
   "outputs": [],
   "source": [
    "consumer = KafkaConsumer(\n",
    "    'Price',\n",
    "    bootstrap_servers=[f'{ip}:9092'],\n",
    "    value_deserializer=lambda x: loads(x.decode('utf-8')))"
   ],
   "metadata": {
    "collapsed": false,
    "ExecuteTime": {
     "end_time": "2023-07-03T18:24:41.467164Z",
     "start_time": "2023-07-03T18:24:41.266471Z"
    }
   }
  },
  {
   "cell_type": "markdown",
   "source": [
    "## To S3 Bucket"
   ],
   "metadata": {
    "collapsed": false
   }
  },
  {
   "cell_type": "code",
   "execution_count": null,
   "outputs": [],
   "source": [
    "s3 = S3FileSystem()"
   ],
   "metadata": {
    "collapsed": false
   }
  },
  {
   "cell_type": "code",
   "execution_count": null,
   "outputs": [],
   "source": [
    "for count, i in enumerate(consumer):\n",
    "    dt = datetime.now()\n",
    "    dt.strftime(\"%Y-%m-%d %H:%M:%S\")\n",
    "\n",
    "    with s3.open(f\"s3://trac-kafka-price/{dt}_TRAC_Price_{count}.json\", 'w') as file:\n",
    "        json.dump(i.value, file)"
   ],
   "metadata": {
    "collapsed": false
   }
  }
 ],
 "metadata": {
  "kernelspec": {
   "display_name": "Python 3",
   "language": "python",
   "name": "python3"
  },
  "language_info": {
   "codemirror_mode": {
    "name": "ipython",
    "version": 2
   },
   "file_extension": ".py",
   "mimetype": "text/x-python",
   "name": "python",
   "nbconvert_exporter": "python",
   "pygments_lexer": "ipython2",
   "version": "2.7.6"
  }
 },
 "nbformat": 4,
 "nbformat_minor": 0
}
